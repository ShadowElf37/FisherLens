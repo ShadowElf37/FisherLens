{
 "cells": [
  {
   "cell_type": "code",
   "execution_count": 1,
   "metadata": {},
   "outputs": [],
   "source": [
    "from getdist import plots, loadMCSamples, MCSamples\n",
    "import numpy as np\n",
    "import plotTools as pt"
   ]
  },
  {
   "cell_type": "code",
   "execution_count": null,
   "metadata": {},
   "outputs": [],
   "source": [
    "## ExpA, 60meV\n",
    "\n",
    "jobName = './results/DALI_ExpA_60meV'\n",
    "expNumber = 0\n",
    "fsky = 0.6\n",
    "fishers, cosmoParams = pt.loadWithDALI(jobName = jobName, pythonFlag = 3, returnCosmoParams = True, gTypes=['Gaussian'])\n",
    "fishers = pt.addfskyWithDALI(fishers,fsky, gTypes=['Gaussian'])\n",
    "fishers = pt.addTauWithDALI(fishers, cosmoParams, gTypes=['Gaussian'])\n",
    "covs = pt.invertFishers(fishers, gTypes=['Gaussian'])\n",
    "sigmas = pt.getSigmas(covs, gTypes=['Gaussian'])\n",
    "\n",
    "samples = loadMCSamples('./chains/CMB_ExpA60meV', settings={'ignore_rows':0.3})\n",
    "samplesDALI = loadMCSamples('./chains/DALI_lensed_ExpA60meV', settings={'ignore_rows':0.3})\n",
    "\n",
    "print(samples.getTable(limit=1).tableTex())\n",
    "print(samplesDALI.getTable(limit=1).tableTex())"
   ]
  },
  {
   "cell_type": "code",
   "execution_count": null,
   "metadata": {},
   "outputs": [],
   "source": [
    "## ExpA, 60meV, BAO\n",
    "\n",
    "jobName = './results/DALI_ExpA_60meV'\n",
    "expNumber = 0\n",
    "fsky = 0.6\n",
    "fishers, cosmoParams = pt.loadWithDALI(jobName = jobName, pythonFlag = 3, returnCosmoParams = True, gTypes=['Gaussian'])\n",
    "fishers = pt.addfskyWithDALI(fishers,fsky, gTypes=['Gaussian'])\n",
    "baoFile = './results/fisher_BAO_8p_60_Fisher.txt'\n",
    "baoName = './results/fisher_BAO_8p_60_DALI'\n",
    "BAOData = pt.loadBAO(baoName)\n",
    "fishers = pt.addBAOWithDALI(fishers, cosmoParams, baoFile, BAOData, gTypes = ['Gaussian'])\n",
    "fishers = pt.addTauWithDALI(fishers, cosmoParams, gTypes=['Gaussian'])\n",
    "covs = pt.invertFishers(fishers, gTypes=['Gaussian'])\n",
    "sigmas = pt.getSigmas(covs, gTypes=['Gaussian'])\n",
    "\n",
    "samples = loadMCSamples('./chains/CMB_ExpA60meVBAO', settings={'ignore_rows':0.3})\n",
    "samplesDALI = loadMCSamples('./chains/DALI_lensed_ExpA60meVBAO', settings={'ignore_rows':0.3})\n",
    "\n",
    "print(samples.getTable(limit=1).tableTex())\n",
    "print(samplesDALI.getTable(limit=1).tableTex())"
   ]
  },
  {
   "cell_type": "code",
   "execution_count": null,
   "metadata": {},
   "outputs": [],
   "source": [
    "## ExpA, 200meV\n",
    "\n",
    "jobName = './results/DALI_ExpA_200meV'\n",
    "expNumber = 0\n",
    "fsky = 0.6\n",
    "fishers, cosmoParams = pt.loadWithDALI(jobName = jobName, pythonFlag = 3, returnCosmoParams = True, gTypes=['Gaussian'])\n",
    "fishers = pt.addfskyWithDALI(fishers,fsky, gTypes=['Gaussian'])\n",
    "fishers = pt.addTauWithDALI(fishers, cosmoParams, gTypes=['Gaussian'])\n",
    "covs = pt.invertFishers(fishers, gTypes=['Gaussian'])\n",
    "sigmas = pt.getSigmas(covs, gTypes=['Gaussian'])\n",
    "\n",
    "samples = loadMCSamples('./chains/CMB_ExpA200meV', settings={'ignore_rows':0.3})\n",
    "samplesDALI = loadMCSamples('./chains/DALI_lensed_ExpA200meV', settings={'ignore_rows':0.3})\n",
    "\n",
    "print(samples.getTable(limit=1).tableTex())\n",
    "print(samplesDALI.getTable(limit=1).tableTex())"
   ]
  },
  {
   "cell_type": "code",
   "execution_count": null,
   "metadata": {},
   "outputs": [],
   "source": [
    "## ExpB, 60meV\n",
    "\n",
    "jobName = './results/DALI_ExpB_60meV'\n",
    "expNumber = 0\n",
    "fsky = 0.6\n",
    "fishers, cosmoParams = pt.loadWithDALI(jobName = jobName, pythonFlag = 3, returnCosmoParams = True, gTypes=['Gaussian'])\n",
    "fishers = pt.addfskyWithDALI(fishers,fsky, gTypes=['Gaussian'])\n",
    "fishers = pt.addTauWithDALI(fishers, cosmoParams, gTypes=['Gaussian'])\n",
    "covs = pt.invertFishers(fishers, gTypes=['Gaussian'])\n",
    "sigmas = pt.getSigmas(covs, gTypes=['Gaussian'])\n",
    "\n",
    "samples = loadMCSamples('./chains/CMB_ExpB60meV', settings={'ignore_rows':0.3})\n",
    "samplesDALI = loadMCSamples('./chains/DALI_lensed_ExpB60meV', settings={'ignore_rows':0.3})\n",
    "\n",
    "print(samples.getTable(limit=1).tableTex())\n",
    "print(samplesDALI.getTable(limit=1).tableTex())"
   ]
  },
  {
   "cell_type": "code",
   "execution_count": null,
   "metadata": {},
   "outputs": [],
   "source": [
    "## ExpB, 60meV, BAO\n",
    "\n",
    "jobName = './results/DALI_ExpB_60meV'\n",
    "expNumber = 0\n",
    "fsky = 0.6\n",
    "fishers, cosmoParams = pt.loadWithDALI(jobName = jobName, pythonFlag = 3, returnCosmoParams = True, gTypes=['Gaussian'])\n",
    "fishers = pt.addfskyWithDALI(fishers,fsky, gTypes=['Gaussian'])\n",
    "baoFile = './results/fisher_BAO_8p_60_Fisher.txt'\n",
    "baoName = './results/fisher_BAO_8p_60_DALI'\n",
    "BAOData = pt.loadBAO(baoName)\n",
    "fishers = pt.addBAOWithDALI(fishers, cosmoParams, baoFile, BAOData, gTypes = ['Gaussian'])\n",
    "fishers = pt.addTauWithDALI(fishers, cosmoParams, gTypes=['Gaussian'])\n",
    "covs = pt.invertFishers(fishers, gTypes=['Gaussian'])\n",
    "sigmas = pt.getSigmas(covs, gTypes=['Gaussian'])\n",
    "\n",
    "samples = loadMCSamples('./chains/CMB_ExpB60meVBAO', settings={'ignore_rows':0.3})\n",
    "samplesDALI = loadMCSamples('./chains/DALI_lensed_ExpB60meVBAO', settings={'ignore_rows':0.3})\n",
    "\n",
    "print(samples.getTable(limit=1).tableTex())\n",
    "print(samplesDALI.getTable(limit=1).tableTex())"
   ]
  },
  {
   "cell_type": "code",
   "execution_count": null,
   "metadata": {},
   "outputs": [],
   "source": [
    "## ExpB, 200meV\n",
    "\n",
    "jobName = './results/DALI_ExpB_200meV'\n",
    "expNumber = 0\n",
    "fsky = 0.6\n",
    "fishers, cosmoParams = pt.loadWithDALI(jobName = jobName, pythonFlag = 3, returnCosmoParams = True, gTypes=['Gaussian'])\n",
    "fishers = pt.addfskyWithDALI(fishers,fsky, gTypes=['Gaussian'])\n",
    "fishers = pt.addTauWithDALI(fishers, cosmoParams, gTypes=['Gaussian'])\n",
    "covs = pt.invertFishers(fishers, gTypes=['Gaussian'])\n",
    "sigmas = pt.getSigmas(covs, gTypes=['Gaussian'])\n",
    "\n",
    "samples = loadMCSamples('./chains/CMB_ExpB200meV', settings={'ignore_rows':0.3})\n",
    "samplesDALI = loadMCSamples('./chains/DALI_lensed_ExpB200meV', settings={'ignore_rows':0.3})\n",
    "\n",
    "print(samples.getTable(limit=1).tableTex())\n",
    "print(samplesDALI.getTable(limit=1).tableTex())"
   ]
  }
 ],
 "metadata": {
  "kernelspec": {
   "display_name": "guineaPig",
   "language": "python",
   "name": "guineapig"
  },
  "language_info": {
   "codemirror_mode": {
    "name": "ipython",
    "version": 3
   },
   "file_extension": ".py",
   "mimetype": "text/x-python",
   "name": "python",
   "nbconvert_exporter": "python",
   "pygments_lexer": "ipython3",
   "version": "3.9.6"
  }
 },
 "nbformat": 4,
 "nbformat_minor": 4
}
